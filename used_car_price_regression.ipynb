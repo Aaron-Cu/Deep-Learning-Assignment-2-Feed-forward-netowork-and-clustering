{
 "cells": [
  {
   "cell_type": "code",
   "execution_count": 36,
   "id": "c026fad1-90fa-4c80-b58a-7d6f6ddd7256",
   "metadata": {},
   "outputs": [],
   "source": [
    "import numpy as np # linear algebra\n",
    "import pandas as pd # data processing, CSV file I/O (e.g. pd.read_csv)\n",
    "import os\n",
    "import seaborn as sns\n",
    "import matplotlib.pyplot as plt\n",
    "from sklearn.model_selection import train_test_split,cross_val_score\n",
    "from sklearn.linear_model import LinearRegression\n",
    "from sklearn.metrics import r2_score,mean_absolute_error,mean_squared_error\n",
    "%matplotlib inline\n",
    "import warnings\n",
    "warnings.filterwarnings('ignore')\n",
    "import math\n",
    "import random\n",
    "from tensorflow import keras \n",
    "from keras.models import Sequential \n",
    "from keras import Input \n",
    "from keras.layers import Dense "
   ]
  },
  {
   "cell_type": "code",
   "execution_count": 2,
   "id": "ad471038-5683-439f-a5c2-bf1f3b94a1cf",
   "metadata": {},
   "outputs": [],
   "source": [
    "data = pd.read_csv('cleaned_used_device_data.csv')\n",
    "x = data.drop('normalized_used_price',1)\n",
    "y = data['normalized_used_price']"
   ]
  },
  {
   "cell_type": "code",
   "execution_count": 19,
   "id": "dbb6c43e-b6fe-472d-8dd4-1504c43d1bc9",
   "metadata": {},
   "outputs": [
    {
     "name": "stdout",
     "output_type": "stream",
     "text": [
      "      device_brand        os  screen_size        4g        5g  rear_camera_mp  \\\n",
      "1441      4.423648  4.424128        20.32  4.573267  4.372292            5.00   \n",
      "3072      4.683326  4.424128        16.84  4.573267  5.178265           13.00   \n",
      "1869      4.459554  4.424128        15.29  4.573267  4.372292           13.00   \n",
      "3144      4.692627  4.424128        15.80  4.573267  4.372292           12.00   \n",
      "1508      4.423648  4.424128        25.43  3.949897  4.372292            5.00   \n",
      "...            ...       ...          ...       ...       ...             ...   \n",
      "3104      4.459554  4.424128        15.37  4.573267  4.372292           13.00   \n",
      "2036      4.775672  4.424128        12.88  4.573267  4.372292           13.00   \n",
      "1302      4.690155  4.424128        12.70  3.949897  4.372292            8.00   \n",
      "1541      4.423648  4.424128        10.16  3.949897  4.372292            3.15   \n",
      "1281      4.690155  4.424128        15.24  4.573267  4.372292           13.00   \n",
      "\n",
      "      front_camera_mp  internal_memory   ram  battery  weight  release_year  \\\n",
      "1441              2.0             16.0  4.00   4290.0   329.0          2016   \n",
      "3072             16.0             64.0  6.00   4300.0   203.0          2020   \n",
      "1869              8.0             64.0  4.00   3000.0   172.0          2019   \n",
      "3144              8.0             32.0  3.00   5000.0   188.0          2019   \n",
      "1508              2.0             16.0  4.00   6340.0   550.0          2014   \n",
      "...               ...              ...   ...      ...     ...           ...   \n",
      "3104             16.0            128.0  4.00   4000.0   210.0          2019   \n",
      "2036              8.0             64.0  4.00   3180.0   143.0          2018   \n",
      "1302              1.3             32.0  4.00   2150.0   155.0          2013   \n",
      "1541              1.0            512.0  0.25   1500.0   134.0          2013   \n",
      "1281              5.0             16.0  4.00   4100.0   185.0          2014   \n",
      "\n",
      "      days_used  normalized_new_price  \n",
      "1441        800              4.782647  \n",
      "3072        329              5.602635  \n",
      "1869        368              5.522380  \n",
      "3144        506              4.543082  \n",
      "1508        898              5.242858  \n",
      "...         ...                   ...  \n",
      "3104        506              5.537925  \n",
      "2036        407              5.018603  \n",
      "1302        807              5.242593  \n",
      "1541        836              4.505239  \n",
      "1281        878              5.829886  \n",
      "\n",
      "[2277 rows x 14 columns]\n",
      "1441    4.431769\n",
      "3072    5.087164\n",
      "1869    4.705830\n",
      "3144    4.305281\n",
      "1508    4.614328\n",
      "          ...   \n",
      "3104    4.964242\n",
      "2036    4.561427\n",
      "1302    3.915816\n",
      "1541    3.555634\n",
      "1281    4.364372\n",
      "Name: normalized_used_price, Length: 2277, dtype: float64\n",
      "      device_brand        os  screen_size        4g        5g  rear_camera_mp  \\\n",
      "1443      4.423648  4.424128        12.70  4.573267  4.372292            13.0   \n",
      "1773      3.867444  4.424128        12.70  4.573267  4.372292            13.0   \n",
      "1163      4.432937  4.424128        10.16  3.949897  4.372292             5.0   \n",
      "2613      4.539191  4.424128        10.31  4.573267  4.372292            20.7   \n",
      "281       4.775672  4.424128        10.29  4.573267  4.372292             8.0   \n",
      "...            ...       ...          ...       ...       ...             ...   \n",
      "2254      4.510090  4.424128        15.80  4.573267  4.372292            12.0   \n",
      "2070      4.775672  4.424128        10.29  3.949897  4.372292             8.0   \n",
      "1073      4.432937  4.424128        12.83  4.573267  4.372292            12.0   \n",
      "330       4.026423  4.424128        17.78  3.949897  4.372292             0.3   \n",
      "1119      4.432937  4.424128        20.55  4.573267  4.372292             8.0   \n",
      "\n",
      "      front_camera_mp  internal_memory  ram  battery  weight  release_year  \\\n",
      "1443              5.0             16.0  4.0   2750.0   142.0          2016   \n",
      "1773              5.0             16.0  4.0   2260.0   143.0          2015   \n",
      "1163              1.6             16.0  4.0   1650.0   114.0          2013   \n",
      "2613              2.2             16.0  4.0   2600.0   129.0          2014   \n",
      "281               5.0              8.0  1.0   2000.0   135.0          2015   \n",
      "...               ...              ...  ...      ...     ...           ...   \n",
      "2254              5.0             32.0  4.0   3400.0   163.0          2019   \n",
      "2070              2.0             32.0  4.0   2000.0   135.0          2015   \n",
      "1073             16.0            128.0  4.0   3000.0   169.0          2017   \n",
      "330               0.3              4.0  1.0   1800.0   390.0          2013   \n",
      "1119              1.6             16.0  4.0   6700.0   425.0          2014   \n",
      "\n",
      "      days_used  normalized_new_price  \n",
      "1443        925              4.947198  \n",
      "1773        794              5.437514  \n",
      "1163        947              5.011635  \n",
      "2613       1047              5.701045  \n",
      "281         917              4.991928  \n",
      "...         ...                   ...  \n",
      "2254        190              4.594615  \n",
      "2070        578              4.261129  \n",
      "1073        634              5.916310  \n",
      "330        1041              4.604170  \n",
      "1119        942              5.699774  \n",
      "\n",
      "[976 rows x 14 columns]\n",
      "1443    4.171614\n",
      "1773    4.169761\n",
      "1163    3.456317\n",
      "2613    4.415582\n",
      "281     4.097008\n",
      "          ...   \n",
      "2254    4.236278\n",
      "2070    3.773450\n",
      "1073    5.099744\n",
      "330     4.307303\n",
      "1119    5.057773\n",
      "Name: normalized_used_price, Length: 976, dtype: float64\n"
     ]
    }
   ],
   "source": [
    "x_train,x_test,y_train,y_test = train_test_split(x,y,test_size=0.3,random_state=28)\n",
    "print(x_train)\n",
    "print(y_train)\n",
    "print(x_test)\n",
    "print(y_test)"
   ]
  },
  {
   "cell_type": "code",
   "execution_count": 4,
   "id": "5f0c8da8-e343-401a-bf45-18e9741d63ea",
   "metadata": {},
   "outputs": [
    {
     "name": "stdout",
     "output_type": "stream",
     "text": [
      "Score: 0.8213144963799904\n",
      "MAE: 0.18575229170217075\n",
      "MSE: 0.05723657883506493\n",
      "RMSE: 0.23924167453657594\n"
     ]
    }
   ],
   "source": [
    "lr = LinearRegression()\n",
    "lr.fit(x_train,y_train)\n",
    "pred = lr.predict(x_test)\n",
    "print('Score:',r2_score(y_test,pred))\n",
    "print('MAE:',mean_absolute_error(y_test,pred))\n",
    "print('MSE:',mean_squared_error(y_test,pred))\n",
    "print('RMSE:',mean_squared_error(y_test,pred, squared=False))"
   ]
  },
  {
   "cell_type": "markdown",
   "id": "52a6d839-1c51-449f-ba89-d16395bd3c3d",
   "metadata": {},
   "source": [
    "## RMSE calculation based on sklearn issues\n",
    "\n",
    "### follow this url: https://stackoverflow.com/questions/17197492/is-there-a-library-function-for-root-mean-square-error-rmse-in-python\n",
    "\n",
    "sklearn >= 0.22.0\n",
    "\n",
    "sklearn.metrics has a mean_squared_error function with a squared kwarg (defaults to True). Setting squared to False will return the RMSE.\n",
    "\n",
    "from sklearn.metrics import mean_squared_error\n",
    "\n",
    "rms = mean_squared_error(y_actual, y_predicted, squared=False)\n",
    "\n",
    "sklearn < 0.22.0\n",
    "\n",
    "sklearn.metrics has a mean_squared_error function. The RMSE is just the square root of whatever it returns.\n",
    "\n",
    "from sklearn.metrics import mean_squared_error\n",
    "from math import sqrt\n",
    "\n",
    "rms = sqrt(mean_squared_error(y_actual, y_predicted))\n",
    "\n"
   ]
  },
  {
   "cell_type": "markdown",
   "id": "b0055273-5f2c-43d2-81a8-d91afb36f4c2",
   "metadata": {},
   "source": [
    "## Design a feed forward neural network\n",
    "Your designed feed forward neural network performs regression task and compare performance of linear regression and your Neural network performance. Your model can have 2, 3, 4 layers and number of neurons randomly selected from the sample [128, 32, 64, 16]. For example you have 3 layers neural network, you can have 64 neuron in first layer, 32 neurons in second layer, 128 neuron in third layer. \n",
    "\n",
    "analyze your results and write the reasons behind getting better or worst performance of your model.\n",
    "\n",
    "Note: Write a code to randomly select this configuration before creating your own neural network.\n"
   ]
  },
  {
   "cell_type": "code",
   "execution_count": 9,
   "id": "4bb62efb-fedd-4a1b-b288-b4a7aca21e9b",
   "metadata": {},
   "outputs": [
    {
     "name": "stdout",
     "output_type": "stream",
     "text": [
      "2\n"
     ]
    }
   ],
   "source": [
    "layers = [2,3,4]\n",
    "numLayers = random.randint(0,2)\n",
    "numLayers = layers[numLayers]\n",
    "print(numLayers)"
   ]
  },
  {
   "cell_type": "code",
   "execution_count": 18,
   "id": "486fa620",
   "metadata": {},
   "outputs": [
    {
     "name": "stdout",
     "output_type": "stream",
     "text": [
      "[32, 16]\n"
     ]
    }
   ],
   "source": [
    "neurons = [128,32,64,16]\n",
    "neuronsPicked = True\n",
    "neuronList = []\n",
    "count = 0\n",
    "while neuronsPicked:\n",
    "    index = random.randint(0,3)\n",
    "    if (neuronList.count(neurons[index]) == 0):\n",
    "        neuronList.append(neurons[index])\n",
    "        count+=1\n",
    "        if count == numLayers:\n",
    "            neuronsPicked = False\n",
    "print(neuronList)"
   ]
  },
  {
   "cell_type": "code",
   "execution_count": 29,
   "id": "29f277c3",
   "metadata": {},
   "outputs": [],
   "source": [
    "model = Sequential(name=\"FFNN\")\n",
    "model.add(Input(shape=(14,), name=\"Input\"))\n",
    "model.add(Dense(32, kernel_initializer='normal', activation=\"relu\"))\n",
    "model.add(Dense(16, kernel_initializer='normal', activation=\"relu\"))\n",
    "model.add(Dense(1))\n",
    "model.compile(loss=\"mean_squared_error\")"
   ]
  },
  {
   "cell_type": "code",
   "execution_count": 33,
   "id": "e385fbbc",
   "metadata": {},
   "outputs": [
    {
     "name": "stdout",
     "output_type": "stream",
     "text": [
      "Epoch 1/32\n",
      "228/228 [==============================] - 0s 2ms/step - loss: 0.2047 - val_loss: 0.1327\n",
      "Epoch 2/32\n",
      "228/228 [==============================] - 0s 2ms/step - loss: 0.1931 - val_loss: 0.1605\n",
      "Epoch 3/32\n",
      "228/228 [==============================] - 0s 2ms/step - loss: 0.1877 - val_loss: 0.1580\n",
      "Epoch 4/32\n",
      "228/228 [==============================] - 0s 2ms/step - loss: 0.1741 - val_loss: 0.2765\n",
      "Epoch 5/32\n",
      "228/228 [==============================] - 0s 2ms/step - loss: 0.1659 - val_loss: 0.1323\n",
      "Epoch 6/32\n",
      "228/228 [==============================] - 0s 2ms/step - loss: 0.1710 - val_loss: 0.1918\n",
      "Epoch 7/32\n",
      "228/228 [==============================] - 0s 2ms/step - loss: 0.1626 - val_loss: 0.2135\n",
      "Epoch 8/32\n",
      "228/228 [==============================] - 0s 2ms/step - loss: 0.1605 - val_loss: 0.2062\n",
      "Epoch 9/32\n",
      "228/228 [==============================] - 0s 2ms/step - loss: 0.1559 - val_loss: 0.1271\n",
      "Epoch 10/32\n",
      "228/228 [==============================] - 0s 2ms/step - loss: 0.1498 - val_loss: 0.1414\n",
      "Epoch 11/32\n",
      "228/228 [==============================] - 0s 2ms/step - loss: 0.1500 - val_loss: 0.1657\n",
      "Epoch 12/32\n",
      "228/228 [==============================] - 0s 2ms/step - loss: 0.1433 - val_loss: 0.1085\n",
      "Epoch 13/32\n",
      "228/228 [==============================] - 0s 2ms/step - loss: 0.1394 - val_loss: 0.1068\n",
      "Epoch 14/32\n",
      "228/228 [==============================] - 0s 2ms/step - loss: 0.1405 - val_loss: 0.1438\n",
      "Epoch 15/32\n",
      "228/228 [==============================] - 0s 2ms/step - loss: 0.1408 - val_loss: 0.0933\n",
      "Epoch 16/32\n",
      "228/228 [==============================] - 0s 2ms/step - loss: 0.1351 - val_loss: 0.1309\n",
      "Epoch 17/32\n",
      "228/228 [==============================] - 0s 2ms/step - loss: 0.1307 - val_loss: 0.1391\n",
      "Epoch 18/32\n",
      "228/228 [==============================] - 0s 2ms/step - loss: 0.1316 - val_loss: 0.1261\n",
      "Epoch 19/32\n",
      "228/228 [==============================] - 0s 2ms/step - loss: 0.1279 - val_loss: 0.1076\n",
      "Epoch 20/32\n",
      "228/228 [==============================] - 0s 2ms/step - loss: 0.1192 - val_loss: 0.1048\n",
      "Epoch 21/32\n",
      "228/228 [==============================] - 0s 2ms/step - loss: 0.1227 - val_loss: 0.1087\n",
      "Epoch 22/32\n",
      "228/228 [==============================] - 0s 2ms/step - loss: 0.1228 - val_loss: 0.2200\n",
      "Epoch 23/32\n",
      "228/228 [==============================] - 0s 2ms/step - loss: 0.1173 - val_loss: 0.1108\n",
      "Epoch 24/32\n",
      "228/228 [==============================] - 0s 2ms/step - loss: 0.1160 - val_loss: 0.1116\n",
      "Epoch 25/32\n",
      "228/228 [==============================] - 0s 2ms/step - loss: 0.1212 - val_loss: 0.0927\n",
      "Epoch 26/32\n",
      "228/228 [==============================] - 0s 2ms/step - loss: 0.1151 - val_loss: 0.2136\n",
      "Epoch 27/32\n",
      "228/228 [==============================] - 0s 2ms/step - loss: 0.1143 - val_loss: 0.0981\n",
      "Epoch 28/32\n",
      "228/228 [==============================] - 0s 2ms/step - loss: 0.1134 - val_loss: 0.0924\n",
      "Epoch 29/32\n",
      "228/228 [==============================] - 0s 2ms/step - loss: 0.1150 - val_loss: 0.0889\n",
      "Epoch 30/32\n",
      "228/228 [==============================] - 0s 2ms/step - loss: 0.1089 - val_loss: 0.0953\n",
      "Epoch 31/32\n",
      "228/228 [==============================] - 0s 2ms/step - loss: 0.1094 - val_loss: 0.1585\n",
      "Epoch 32/32\n",
      "228/228 [==============================] - 0s 2ms/step - loss: 0.1077 - val_loss: 0.1676\n"
     ]
    },
    {
     "data": {
      "text/plain": [
       "<keras.callbacks.History at 0x14fbba9b5e0>"
      ]
     },
     "execution_count": 33,
     "metadata": {},
     "output_type": "execute_result"
    }
   ],
   "source": [
    "model.fit(\n",
    "    x_train,\n",
    "    y_train,\n",
    "    batch_size=10,\n",
    "    epochs=32,\n",
    "    validation_data=(x_test, y_test)\n",
    ")"
   ]
  },
  {
   "cell_type": "code",
   "execution_count": 34,
   "id": "25a87337",
   "metadata": {},
   "outputs": [
    {
     "name": "stdout",
     "output_type": "stream",
     "text": [
      "Score: 0.4768144675862247\n",
      "MAE: 0.34021693862567387\n",
      "MSE: 0.16758690192936906\n",
      "RMSE: 0.40937379243103617\n"
     ]
    }
   ],
   "source": [
    "y_pred = model.predict(x_test)\n",
    "print('Score:',r2_score(y_test,y_pred))\n",
    "print('MAE:',mean_absolute_error(y_test,y_pred))\n",
    "print('MSE:',mean_squared_error(y_test,y_pred))\n",
    "print('RMSE:',mean_squared_error(y_test,y_pred, squared=False))"
   ]
  },
  {
   "attachments": {},
   "cell_type": "markdown",
   "id": "dc287764",
   "metadata": {},
   "source": [
    "Linear regression\n",
    "Score: 0.8213144963799904\n",
    "MAE: 0.18575229170217075\n",
    "MSE: 0.05723657883506493\n",
    "RMSE: 0.23924167453657594\n",
    "\n",
    "Neural Netowrk\n",
    "Score: 0.4768144675862247\n",
    "MAE: 0.34021693862567387\n",
    "MSE: 0.16758690192936906\n",
    "RMSE: 0.40937379243103617\n",
    "\n",
    "The network is likely preforming worse due to limited amounts of training data given the complexity of the data in addition to the network complexity I generated at random likely not having enough complexity. \n",
    "\n"
   ]
  },
  {
   "attachments": {},
   "cell_type": "markdown",
   "id": "2b1736a1",
   "metadata": {},
   "source": [
    "Number 4 gradient computation"
   ]
  },
  {
   "cell_type": "code",
   "execution_count": 4,
   "id": "b97d9983",
   "metadata": {},
   "outputs": [],
   "source": [
    "def computeGrads (a, b , c):\n",
    "    x = 3 * (a*a) + 2 * (b*b)\n",
    "    z = (b*b) + c\n",
    "    dydx = (10 * x)\n",
    "    print(\"dy/dx: \" + str(dydx))\n",
    "    dxda = (6 * a)\n",
    "    print(\"dx/da: \" + str(dxda))\n",
    "    print(\"dy/da = dx/da * dy/dx\")\n",
    "    da = dxda * dydx\n",
    "    print(\"dy/da: \" + str(da))\n",
    "    dydz = 2\n",
    "    print(\"dy/dz: \" + str(dydz))\n",
    "    dzdb = 2 * b\n",
    "    print(\"dz/db: \" + str(dzdb))\n",
    "    dydx = 10 * x\n",
    "    print(\"dy/dx: \" + str(dydx))\n",
    "    dxdb = 4 * b\n",
    "    print(\"dx/db: \" + str(dxdb))\n",
    "    print(\"dy/db = dx/db * dy/dx + dz/db * dy/dz\")\n",
    "    db = (dxdb * dydx) + (dzdb * dydz)\n",
    "    print(\"dy/db: \" + str(db))\n",
    "    dydz = 2\n",
    "    print(\"dy/dz: \" + str(dydz))\n",
    "    dzdc = 1\n",
    "    print(\"dz/dc: \" + str(dzdc))\n",
    "    print(\"dy/dc = dz/dc * dy/dz\")\n",
    "    dc = dzdc * dydz\n",
    "    print(\"dy/dc: \" + str(dc))\n",
    "    return {da, db, dc}"
   ]
  },
  {
   "cell_type": "code",
   "execution_count": 5,
   "id": "f2c20c4f",
   "metadata": {},
   "outputs": [
    {
     "name": "stdout",
     "output_type": "stream",
     "text": [
      "dy/dx: 300\n",
      "dx/da: -12\n",
      "dy/da = dx/da * dy/dx\n",
      "dy/da: -3600\n",
      "dy/dz: 2\n",
      "dz/db: 6\n",
      "dy/dx: 300\n",
      "dx/db: 12\n",
      "dy/db = dx/db * dy/dx + dz/db * dy/dz\n",
      "dy/db: 3612\n",
      "dy/dz: 2\n",
      "dz/dc: 1\n",
      "dy/dc = dz/dc * dy/dz\n",
      "dy/dc: 2\n",
      "{-3600, 2, 3612}\n"
     ]
    }
   ],
   "source": [
    "a = -2\n",
    "b = 3\n",
    "c = 10\n",
    "grads = computeGrads(a, b , c)\n",
    "print(grads)"
   ]
  }
 ],
 "metadata": {
  "kernelspec": {
   "display_name": "Python 3",
   "language": "python",
   "name": "python3"
  },
  "language_info": {
   "codemirror_mode": {
    "name": "ipython",
    "version": 3
   },
   "file_extension": ".py",
   "mimetype": "text/x-python",
   "name": "python",
   "nbconvert_exporter": "python",
   "pygments_lexer": "ipython3",
   "version": "3.10.6"
  },
  "vscode": {
   "interpreter": {
    "hash": "7435e630dfbed01b727b481b4dd96da47219958bf99583019519e220bd168f86"
   }
  }
 },
 "nbformat": 4,
 "nbformat_minor": 5
}
